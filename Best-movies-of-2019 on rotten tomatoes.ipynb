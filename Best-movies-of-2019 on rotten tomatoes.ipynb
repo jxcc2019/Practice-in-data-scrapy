{
 "cells": [
  {
   "cell_type": "code",
   "execution_count": 2,
   "metadata": {},
   "outputs": [],
   "source": [
    "import pandas as pd\n",
    "from bs4 import BeautifulSoup\n",
    "import os\n",
    "import requests"
   ]
  },
  {
   "cell_type": "code",
   "execution_count": 122,
   "metadata": {},
   "outputs": [],
   "source": [
    "#saving the HTML containing movies' information\n",
    "url='https://editorial.rottentomatoes.com/guide/best-movies-of-2019/'\n",
    "response=requests.get(url)\n",
    "\n",
    "#make soup and extract information\n",
    "soup=BeautifulSoup(response.content,'lxml')\n",
    "movies=soup.find_all('div',class_='article_movie_title')\n",
    "\n",
    "#create a DataFrame which contains the name, ranking and rating\n",
    "df_list=[]\n",
    "for movie in range(len(movies)):\n",
    "    title=movies[movie].find('a').contents[0]\n",
    "    rating=movies[movie].find('span',class_='tMeterScore').contents[0]\n",
    "    url=movies[movie].find('h2').contents[0].get('href').strip()\n",
    "    ranking=22-movie\n",
    "    \n",
    "    df_list.append({'title':title,\n",
    "                   'rating':rating,\n",
    "                   'ranking':ranking,\n",
    "                   'url':url})\n",
    "    \n",
    "df=pd.DataFrame(df_list,columns=['title','rating','ranking','url'])"
   ]
  },
  {
   "cell_type": "code",
   "execution_count": null,
   "metadata": {},
   "outputs": [],
   "source": [
    "import wptools\n",
    "import "
   ]
  },
  {
   "cell_type": "code",
   "execution_count": 116,
   "metadata": {},
   "outputs": [
    {
     "data": {
      "text/plain": [
       "'https://www.rottentomatoes.com/m/climax/'"
      ]
     },
     "execution_count": 116,
     "metadata": {},
     "output_type": "execute_result"
    }
   ],
   "source": []
  },
  {
   "cell_type": "code",
   "execution_count": null,
   "metadata": {},
   "outputs": [],
   "source": []
  }
 ],
 "metadata": {
  "kernelspec": {
   "display_name": "Python 3",
   "language": "python",
   "name": "python3"
  },
  "language_info": {
   "codemirror_mode": {
    "name": "ipython",
    "version": 3
   },
   "file_extension": ".py",
   "mimetype": "text/x-python",
   "name": "python",
   "nbconvert_exporter": "python",
   "pygments_lexer": "ipython3",
   "version": "3.7.1"
  },
  "toc": {
   "base_numbering": 1,
   "nav_menu": {},
   "number_sections": true,
   "sideBar": true,
   "skip_h1_title": false,
   "title_cell": "Table of Contents",
   "title_sidebar": "Contents",
   "toc_cell": false,
   "toc_position": {},
   "toc_section_display": true,
   "toc_window_display": false
  }
 },
 "nbformat": 4,
 "nbformat_minor": 2
}
